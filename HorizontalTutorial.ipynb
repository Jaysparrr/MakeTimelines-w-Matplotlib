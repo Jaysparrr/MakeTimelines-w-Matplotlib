{
 "cells": [
  {
   "cell_type": "markdown",
   "metadata": {},
   "source": [
    "## Welcome!\n",
    "Language  | Jasper Hooker\n",
    "------------- | -------------\n",
    "<img src='https://upload.wikimedia.org/wikipedia/commons/c/c3/Python-logo-notext.svg' width='200' alt='bigrunmoment'> | <img src='https://i.imgur.com/8zfa5rd.jpg' width='200' alt='bigrunmoment'>\n",
    "Created with Python | Everything created by yours truly"
   ]
  },
  {
   "cell_type": "code",
   "execution_count": 1,
   "metadata": {},
   "outputs": [
    {
     "name": "stdout",
     "output_type": "stream",
     "text": [
      "%pylab is deprecated, use %matplotlib inline and import the required libraries.\n",
      "Populating the interactive namespace from numpy and matplotlib\n"
     ]
    }
   ],
   "source": [
    "import matplotlib.pyplot as plt\n",
    "from datetime import date\n",
    "import numpy as np\n",
    "%matplotlib inline"
   ]
  },
  {
   "cell_type": "markdown",
   "metadata": {},
   "source": [
    "## Data"
   ]
  },
  {
   "cell_type": "code",
   "execution_count": 2,
   "metadata": {},
   "outputs": [],
   "source": [
    "dates = [date(1954, 7, 19), date(1959, 2, 3), date(1964, 2, 9), date(1965, 7, 25), date(1967, 6, 1), date(1969, 8, 15)]\n",
    "min_date = date(np.min(dates).year - 2, np.min(dates).month, np.min(dates).day)\n",
    "max_date = date(np.max(dates).year + 2, np.max(dates).month, np.max(dates).day)\n",
    " \n",
    "labels = ['Elvis appears on\\nthe Ed Sullivan Show', 'Buddy Holly dies', 'The Beatles appear\\non the Ed Sullivan Show', \n",
    "          'Bob Dylan goes electric', 'The Beatles release\\nSgt. Pepper', 'Woodstock']\n",
    "# labels with associated dates\n",
    "labels = ['{0:%d %b %Y}:\\n{1}'.format(d, l) for l, d in zip (labels, dates)]\n",
    "## Data taken from w3schools"
   ]
  },
  {
   "cell_type": "markdown",
   "metadata": {},
   "source": [
    "## Timeline and Points"
   ]
  },
  {
   "cell_type": "code",
   "execution_count": 3,
   "metadata": {},
   "outputs": [
    {
     "data": {
      "image/png": "[encoded data removed]",
      "text/plain": [
       "<Figure size 1500x400 with 1 Axes>"
      ]
     },
     "metadata": {},
     "output_type": "display_data"
    }
   ],
   "source": [
    "fig, ax = plt.subplots(figsize=(15, 4), constrained_layout=True)\n",
    "_ = ax.set_ylim(-2, 1.75)\n",
    "_ = ax.set_xlim(min_date, max_date)\n",
    "_ = ax.axhline(0, xmin=0.05, xmax=0.95, c='deeppink', zorder=1)\n",
    " \n",
    "_ = ax.scatter(dates, np.zeros(len(dates)), s=120, c='palevioletred', zorder=2)\n",
    "_ = ax.scatter(dates, np.zeros(len(dates)), s=30, c='darkmagenta', zorder=3)"
   ]
  },
  {
   "cell_type": "markdown",
   "metadata": {},
   "source": [
    "## Labels"
   ]
  },
  {
   "cell_type": "code",
   "execution_count": 4,
   "metadata": {},
   "outputs": [],
   "source": [
    "label_offsets = np.zeros(len(dates))\n",
    "label_offsets[::2] = 0.35\n",
    "label_offsets[1::2] = -0.7\n",
    "for i, (l, d) in enumerate(zip(labels, dates)):\n",
    "    _ = ax.text(d, label_offsets[i], l, ha='center', fontfamily='serif', fontweight='bold', color='royalblue',fontsize=12)"
   ]
  },
  {
   "cell_type": "markdown",
   "metadata": {},
   "source": [
    "## Adding Lollipops"
   ]
  },
  {
   "cell_type": "code",
   "execution_count": 5,
   "metadata": {},
   "outputs": [
    {
     "name": "stderr",
     "output_type": "stream",
     "text": [
      "/var/folders/_2/sj_hfblj2g92l_ksl3smwbqh0000gn/T/ipykernel_83652/1230838966.py:4: MatplotlibDeprecationWarning: The 'use_line_collection' parameter of stem() was deprecated in Matplotlib 3.6 and will be removed two minor releases later. If any parameter follows 'use_line_collection', they should be passed as keyword, not positionally.\n",
      "  markerline, stemline, baseline = ax.stem(dates, stems, use_line_collection=True)\n"
     ]
    }
   ],
   "source": [
    "stems = np.zeros(len(dates))\n",
    "stems[::2] = 0.3\n",
    "stems[1::2] = -0.3   \n",
    "markerline, stemline, baseline = ax.stem(dates, stems, use_line_collection=True)\n",
    "_ = plt.setp(markerline, marker=',', color='darkmagenta')\n",
    "_ = plt.setp(stemline, color='darkmagenta')"
   ]
  },
  {
   "cell_type": "markdown",
   "metadata": {},
   "source": [
    "## Clean Up\n",
    "Fixing the code to clear up excess lines"
   ]
  },
  {
   "cell_type": "code",
   "execution_count": 6,
   "metadata": {},
   "outputs": [],
   "source": [
    "# hide lines around chart\n",
    "for spine in [\"left\", \"top\", \"right\", \"bottom\"]:\n",
    "    _ = ax.spines[spine].set_visible(False)\n",
    " \n",
    "# hide tick labels\n",
    "_ = ax.set_xticks([])\n",
    "_ = ax.set_yticks([])\n",
    " \n",
    "_ = ax.set_title('Important Milestones in Rock and Roll', fontweight=\"bold\", fontfamily='serif', fontsize=16, \n",
    "                 color='royalblue')"
   ]
  },
  {
   "cell_type": "code",
   "execution_count": 7,
   "metadata": {},
   "outputs": [],
   "source": [
    "fig.savefig(\"horizontal.png\")"
   ]
  }
 ],
 "metadata": {
  "kernelspec": {
   "display_name": "Python 3.10.6 ('base')",
   "language": "python",
   "name": "python3"
  },
  "language_info": {
   "codemirror_mode": {
    "name": "ipython",
    "version": 3
   },
   "file_extension": ".py",
   "mimetype": "text/x-python",
   "name": "python",
   "nbconvert_exporter": "python",
   "pygments_lexer": "ipython3",
   "version": "3.10.6"
  },
  "orig_nbformat": 4,
  "vscode": {
   "interpreter": {
    "hash": "d42830e5dfbda43548876b3d40a2042b32834edd78ec1e0677b02af45d1b7695"
   }
  }
 },
 "nbformat": 4,
 "nbformat_minor": 2
}
